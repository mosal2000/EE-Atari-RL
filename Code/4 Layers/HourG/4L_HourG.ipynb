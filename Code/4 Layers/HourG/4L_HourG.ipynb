{
 "cells": [
  {
   "cell_type": "code",
   "execution_count": 1,
   "metadata": {},
   "outputs": [],
   "source": [
    "#imports\n",
    "import gym\n",
    "\n",
    "from tensorflow.keras.models import Sequential\n",
    "from tensorflow.keras.layers import Dense, Flatten, Activation, Convolution2D, Permute\n",
    "from tensorflow.keras.optimizers import Adam\n",
    "\n",
    "from rl.agents.dqn import DQNAgent\n",
    "from rl.policy import LinearAnnealedPolicy, EpsGreedyQPolicy\n",
    "from rl.memory import SequentialMemory\n",
    "from rl.core import Processor\n",
    "from rl.callbacks import FileLogger, ModelIntervalCheckpoint, Visualizer, TrainIntervalLogger, TestLogger"
   ]
  },
  {
   "cell_type": "code",
   "execution_count": null,
   "metadata": {},
   "outputs": [],
   "source": [
    "# makes the enviroment\n",
    "env = gym.make('SpaceInvaders-ram-v4')\n",
    "# old rom name: 'SpaceInvaders-ram-v4' or 'Breakout-ram-v4'\n",
    "\n",
    "nb_actions = env.action_space.n\n",
    "nb_obs = env.observation_space.shape\n",
    "\n",
    "print(\"actions:\", nb_actions, \"   observations:\", nb_obs)\n",
    "\n",
    "file_name = \"4L_HourG\"\n",
    "window_size = 4\n",
    "NB_STEPS = 1000000\n",
    "NB_STEPS_POL = 500000\n",
    "NB_STEPS_WARMUP = 100000"
   ]
  },
  {
   "cell_type": "code",
   "execution_count": 3,
   "metadata": {},
   "outputs": [],
   "source": [
    "# callbacks\n",
    "#file logger\n",
    "logger = FileLogger(f'training_logs_{file_name}.txt', interval=1) \n",
    "\n",
    "# saver callback\n",
    "weights_filename = f\"model/{file_name}_weights.h5f\"\n",
    "checkpoint_filename = f\"model/{file_name}_checkpoint.h5f\"\n",
    "checkpoint_callback = ModelIntervalCheckpoint(checkpoint_filename,interval=100000)"
   ]
  },
  {
   "cell_type": "code",
   "execution_count": null,
   "metadata": {},
   "outputs": [],
   "source": [
    "# create the neural network model\n",
    "model = Sequential()\n",
    "model.add(Flatten(input_shape=(window_size,) + nb_obs))\n",
    "\n",
    "model.add(Dense(64))\n",
    "model.add(Activation('relu'))\n",
    "\n",
    "model.add(Dense(32))\n",
    "model.add(Activation('relu'))\n",
    "\n",
    "model.add(Dense(32))\n",
    "model.add(Activation('relu'))\n",
    "\n",
    "model.add(Dense(64))\n",
    "model.add(Activation('relu'))\n",
    "\n",
    "model.add(Dense(nb_actions))\n",
    "model.add(Activation('linear'))\n",
    "\n",
    "print(model.summary())"
   ]
  },
  {
   "cell_type": "code",
   "execution_count": 5,
   "metadata": {},
   "outputs": [],
   "source": [
    "# setup the agent\n",
    "\n",
    "# use this line if training is starting from a checkpoint\n",
    "# model.load_weights(\"model/test_1_checkpoint.h5f\")\n",
    "# # or from the actual thing\n",
    "# model.load_weights(\"model/test_1_weights.h5f\")\n",
    "\n",
    "# setup the memory buffer\n",
    "memory = SequentialMemory(limit=1000000,window_length=window_size)\n",
    "\n",
    "# create the policy\n",
    "policy = LinearAnnealedPolicy(EpsGreedyQPolicy(), \n",
    "                              attr='eps',\n",
    "                              value_max=1.0,\n",
    "                              value_min=.1,\n",
    "                              value_test=.05,\n",
    "                              nb_steps=1000000) \n",
    "# create the agent\n",
    "dqn = DQNAgent(model=model, nb_actions=nb_actions, memory=memory, nb_steps_warmup=100000,\n",
    "               target_model_update=10000, policy=policy, gamma=0.99) #removed batch size thing, maybe add back later if its actually important ig idk"
   ]
  },
  {
   "cell_type": "code",
   "execution_count": null,
   "metadata": {},
   "outputs": [],
   "source": [
    "# compile fit and evaluate teh agent\n",
    "dqn.compile(Adam(lr=1e-3), metrics=['mae']) \n",
    "train_history = dqn.fit(env, nb_steps=NB_STEPS,callbacks=[logger,checkpoint_callback], visualize=False, verbose=2)\n",
    "\n",
    "# save the weights\n",
    "dqn.save_weights(f'model/{file_name}_weights.h5f', overwrite=True)"
   ]
  },
  {
   "cell_type": "code",
   "execution_count": null,
   "metadata": {},
   "outputs": [],
   "source": [
    "#test the agent\n",
    "dqn.compile(Adam(lr=1e-3), metrics=['mae']) \n",
    "dqn.test(env, nb_episodes=5, visualize=True)\n",
    "env.close()"
   ]
  },
  {
   "cell_type": "code",
   "execution_count": 8,
   "metadata": {},
   "outputs": [],
   "source": [
    "import pandas as pd\n",
    "import matplotlib.pyplot as plt\n",
    "\n",
    "# get the text file\n",
    "file = open(f\"training_logs_{file_name}.txt\").readlines()\n",
    "# its a list so just get the first and only text output\n",
    "text = file[0]\n",
    "\n",
    "# list of things in the file to remove such that i will be left with lists then loop to delete them\n",
    "char_del = ['{\"loss\": ',', \"mae\": ',', \"mean_q\": ',', \"mean_eps\": ',', \"episode_reward\": ',', \"nb_episode_steps\": ',', \"nb_steps\": ',', \"episode\": ',', \"duration\": ','}']\n",
    "textProc = []\n",
    "for i in range(10):\n",
    "    text = text.replace(char_del[i],\"\")\n",
    "#print(textProc)\n",
    "text = text.replace(\"[\",\"\")\n",
    "text = text.replace(\"NaN\",\"0\")\n",
    "\n",
    "# this turns it from a text thing to a list\n",
    "textProc = text.split(\"]\")[:-1]\n",
    "for i in range(len(textProc)):\n",
    "    textProc[i] = textProc[i].split(\",\")\n",
    "\n",
    "# list of the data columns\n",
    "cols = [\"loss\", \"mae\", \"mean_q\", \"mean_eps\", \"episode_reward\", \"nb_episode_steps\", \"nb_steps\", \"episode\", \"duration\"]\n",
    "\n",
    "df = pd.DataFrame()\n",
    "for i in range(len(textProc)):\n",
    "    df[cols[i]] = textProc[i]\n",
    "\n",
    "df.to_csv(f\"{file_name}.csv\")"
   ]
  }
 ],
 "metadata": {
  "kernelspec": {
   "display_name": "chess_note",
   "language": "python",
   "name": "python3"
  },
  "language_info": {
   "codemirror_mode": {
    "name": "ipython",
    "version": 3
   },
   "file_extension": ".py",
   "mimetype": "text/x-python",
   "name": "python",
   "nbconvert_exporter": "python",
   "pygments_lexer": "ipython3",
   "version": "3.7.0"
  },
  "orig_nbformat": 4
 },
 "nbformat": 4,
 "nbformat_minor": 2
}
